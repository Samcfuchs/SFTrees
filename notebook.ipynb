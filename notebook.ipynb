{
 "cells": [
  {
   "cell_type": "code",
   "execution_count": 1,
   "metadata": {},
   "outputs": [],
   "source": [
    "import pandas as pd\n",
    "import matplotlib.pyplot as plt"
   ]
  },
  {
   "cell_type": "code",
   "execution_count": 2,
   "metadata": {},
   "outputs": [
    {
     "data": {
      "text/html": [
       "<div>\n",
       "<style scoped>\n",
       "    .dataframe tbody tr th:only-of-type {\n",
       "        vertical-align: middle;\n",
       "    }\n",
       "\n",
       "    .dataframe tbody tr th {\n",
       "        vertical-align: top;\n",
       "    }\n",
       "\n",
       "    .dataframe thead th {\n",
       "        text-align: right;\n",
       "    }\n",
       "</style>\n",
       "<table border=\"1\" class=\"dataframe\">\n",
       "  <thead>\n",
       "    <tr style=\"text-align: right;\">\n",
       "      <th></th>\n",
       "      <th>TreeID</th>\n",
       "      <th>qLegalStatus</th>\n",
       "      <th>qSpecies</th>\n",
       "      <th>qAddress</th>\n",
       "      <th>SiteOrder</th>\n",
       "      <th>qSiteInfo</th>\n",
       "      <th>qCaretaker</th>\n",
       "      <th>PlantDate</th>\n",
       "      <th>DBH</th>\n",
       "      <th>PlotSize</th>\n",
       "      <th>Latitude</th>\n",
       "      <th>Longitude</th>\n",
       "    </tr>\n",
       "  </thead>\n",
       "  <tbody>\n",
       "    <tr>\n",
       "      <th>0</th>\n",
       "      <td>200311</td>\n",
       "      <td>DPW Maintained</td>\n",
       "      <td>Liquidambar styraciflua 'Rotundiloba' :: Round...</td>\n",
       "      <td>300 Spear St</td>\n",
       "      <td>9.0</td>\n",
       "      <td>Sidewalk: Curb side : Yard</td>\n",
       "      <td>Private</td>\n",
       "      <td>NaN</td>\n",
       "      <td>5</td>\n",
       "      <td>NaN</td>\n",
       "      <td>37.789193</td>\n",
       "      <td>-122.390006</td>\n",
       "    </tr>\n",
       "    <tr>\n",
       "      <th>1</th>\n",
       "      <td>10425</td>\n",
       "      <td>DPW Maintained</td>\n",
       "      <td>Schinus terebinthifolius :: Brazilian Pepper</td>\n",
       "      <td>1419 Haight St</td>\n",
       "      <td>2.0</td>\n",
       "      <td>Sidewalk: Curb side : Cutout</td>\n",
       "      <td>DPW</td>\n",
       "      <td>NaN</td>\n",
       "      <td>90</td>\n",
       "      <td>3x3</td>\n",
       "      <td>37.770094</td>\n",
       "      <td>-122.445693</td>\n",
       "    </tr>\n",
       "    <tr>\n",
       "      <th>2</th>\n",
       "      <td>43163</td>\n",
       "      <td>DPW Maintained</td>\n",
       "      <td>Acacia melanoxylon :: Blackwood Acacia</td>\n",
       "      <td>222 Madison St</td>\n",
       "      <td>1.0</td>\n",
       "      <td>Sidewalk: Curb side : Cutout</td>\n",
       "      <td>Private</td>\n",
       "      <td>7/11/00 0:00</td>\n",
       "      <td>8</td>\n",
       "      <td>NaN</td>\n",
       "      <td>37.726036</td>\n",
       "      <td>-122.422690</td>\n",
       "    </tr>\n",
       "    <tr>\n",
       "      <th>3</th>\n",
       "      <td>188921</td>\n",
       "      <td>DPW Maintained</td>\n",
       "      <td>Callistemon citrinus :: Lemon Bottlebrush</td>\n",
       "      <td>2001 25th St</td>\n",
       "      <td>16.0</td>\n",
       "      <td>Sidewalk: Property side : Yard</td>\n",
       "      <td>Private</td>\n",
       "      <td>NaN</td>\n",
       "      <td>6</td>\n",
       "      <td>Width 8ft</td>\n",
       "      <td>37.751955</td>\n",
       "      <td>-122.399482</td>\n",
       "    </tr>\n",
       "    <tr>\n",
       "      <th>4</th>\n",
       "      <td>643</td>\n",
       "      <td>DPW Maintained</td>\n",
       "      <td>Ficus microcarpa :: Chinese Banyan</td>\n",
       "      <td>3224 24th St</td>\n",
       "      <td>1.0</td>\n",
       "      <td>Sidewalk: Curb side : Cutout</td>\n",
       "      <td>Private</td>\n",
       "      <td>NaN</td>\n",
       "      <td>18</td>\n",
       "      <td>3x3</td>\n",
       "      <td>37.752398</td>\n",
       "      <td>-122.416772</td>\n",
       "    </tr>\n",
       "  </tbody>\n",
       "</table>\n",
       "</div>"
      ],
      "text/plain": [
       "   TreeID    qLegalStatus                                           qSpecies  \\\n",
       "0  200311  DPW Maintained  Liquidambar styraciflua 'Rotundiloba' :: Round...   \n",
       "1   10425  DPW Maintained       Schinus terebinthifolius :: Brazilian Pepper   \n",
       "2   43163  DPW Maintained             Acacia melanoxylon :: Blackwood Acacia   \n",
       "3  188921  DPW Maintained          Callistemon citrinus :: Lemon Bottlebrush   \n",
       "4     643  DPW Maintained                 Ficus microcarpa :: Chinese Banyan   \n",
       "\n",
       "         qAddress  SiteOrder                       qSiteInfo qCaretaker  \\\n",
       "0    300 Spear St        9.0      Sidewalk: Curb side : Yard    Private   \n",
       "1  1419 Haight St        2.0    Sidewalk: Curb side : Cutout        DPW   \n",
       "2  222 Madison St        1.0    Sidewalk: Curb side : Cutout    Private   \n",
       "3    2001 25th St       16.0  Sidewalk: Property side : Yard    Private   \n",
       "4    3224 24th St        1.0    Sidewalk: Curb side : Cutout    Private   \n",
       "\n",
       "      PlantDate  DBH   PlotSize   Latitude   Longitude  \n",
       "0           NaN    5        NaN  37.789193 -122.390006  \n",
       "1           NaN   90        3x3  37.770094 -122.445693  \n",
       "2  7/11/00 0:00    8        NaN  37.726036 -122.422690  \n",
       "3           NaN    6  Width 8ft  37.751955 -122.399482  \n",
       "4           NaN   18        3x3  37.752398 -122.416772  "
      ]
     },
     "execution_count": 2,
     "metadata": {},
     "output_type": "execute_result"
    }
   ],
   "source": [
    "df = pd.read_csv(\"static/Street_Tree_List-2022-01-30_FILTERED.csv\")\n",
    "df.head()"
   ]
  },
  {
   "cell_type": "code",
   "execution_count": 6,
   "metadata": {},
   "outputs": [
    {
     "data": {
      "text/plain": [
       "DPW Maintained                     33931\n",
       "Permitted Site                      1897\n",
       "Undocumented                         760\n",
       "Planning Code 138.1 required         200\n",
       "Significant Tree                     115\n",
       "Section 806 (d)                       66\n",
       "Private                               61\n",
       "Prune Opt Out                         23\n",
       "Section 143                           22\n",
       "Property Tree                         18\n",
       "Landmark tree                          9\n",
       "Street Tree Maintenance Opt Out        7\n",
       "Name: qLegalStatus, dtype: int64"
      ]
     },
     "execution_count": 6,
     "metadata": {},
     "output_type": "execute_result"
    }
   ],
   "source": [
    "df.qLegalStatus.value_counts()"
   ]
  },
  {
   "cell_type": "code",
   "execution_count": null,
   "metadata": {},
   "outputs": [],
   "source": []
  }
 ],
 "metadata": {
  "interpreter": {
   "hash": "c74e1b109460cdabd722b90e3012ebc3512e9e0aca1105503c7a3af373fbbfc2"
  },
  "kernelspec": {
   "display_name": "Python 3.9.7 ('4310')",
   "language": "python",
   "name": "python3"
  },
  "language_info": {
   "codemirror_mode": {
    "name": "ipython",
    "version": 3
   },
   "file_extension": ".py",
   "mimetype": "text/x-python",
   "name": "python",
   "nbconvert_exporter": "python",
   "pygments_lexer": "ipython3",
   "version": "3.9.7"
  },
  "orig_nbformat": 4
 },
 "nbformat": 4,
 "nbformat_minor": 2
}
